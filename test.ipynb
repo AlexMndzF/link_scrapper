{
 "metadata": {
  "language_info": {
   "codemirror_mode": {
    "name": "ipython",
    "version": 3
   },
   "file_extension": ".py",
   "mimetype": "text/x-python",
   "name": "python",
   "nbconvert_exporter": "python",
   "pygments_lexer": "ipython3",
   "version": "3.7.8-final"
  },
  "orig_nbformat": 2,
  "kernelspec": {
   "name": "python3",
   "display_name": "Python 3.7.8 64-bit ('django')",
   "metadata": {
    "interpreter": {
     "hash": "79555461edfd93c361922b00a343025b782dee9d606d7622ebed7a342fe80bf9"
    }
   }
  }
 },
 "nbformat": 4,
 "nbformat_minor": 2,
 "cells": [
  {
   "cell_type": "code",
   "execution_count": 1,
   "metadata": {},
   "outputs": [],
   "source": [
    "import requests\n",
    "import re\n",
    "from bs4 import BeautifulSoup\n",
    "from arbol import Nodo"
   ]
  },
  {
   "cell_type": "code",
   "execution_count": 10,
   "metadata": {},
   "outputs": [],
   "source": [
    "url = 'https://drive.google.com'\n",
    "res = requests.get(url)\n",
    "html = res.text\n",
    "soups = BeautifulSoup(html, 'html.parser')"
   ]
  },
  {
   "cell_type": "code",
   "execution_count": 11,
   "metadata": {},
   "outputs": [],
   "source": [
    "    regex = r\"\\b((?:https?://|www\\d{0,3}[.]|[a-z0-9.\\-]+[.][a-z]{2,4}/)(?:[^\\s()<>]+|\\(([^\\s()<>]+|(\\([^\\s()<>]+\\)))*\\))+(?:\\(([^\\s()<>]+|(\\([^\\s()<>]+\\)))*\\)|[^\\s`!()\\[\\]{};:'\\\".,<>?«»“”‘’]))\"\n",
    "    r = r'https?://(?:[-\\w.]|(?:%[\\da-fA-F]{2}))+'"
   ]
  },
  {
   "cell_type": "code",
   "execution_count": 14,
   "metadata": {},
   "outputs": [
    {
     "output_type": "execute_result",
     "data": {
      "text/plain": [
       "{'http://www.google.com',\n",
       " 'https://accounts.google.com',\n",
       " 'https://drive.google.com',\n",
       " 'https://ssl.gstatic.com',\n",
       " 'https://www.google.com'}"
      ]
     },
     "metadata": {},
     "execution_count": 14
    }
   ],
   "source": [
    "links = set(re.findall(r,str(soups)))\n",
    "links"
   ]
  },
  {
   "cell_type": "code",
   "execution_count": 8,
   "metadata": {},
   "outputs": [],
   "source": [
    "def get_urls_from_url(url, profundidad):\n",
    "    \"\"\" res = requests.get(url)\n",
    "    if res.status_code == 200:\n",
    "    html = res.text\n",
    "    soups = BeautifulSoup(html, 'html.parser')\n",
    "\n",
    "    r = r'https?://(?:[-\\w.]|(?:%[\\da-fA-F]{2}))+'\n",
    "\n",
    "    links = set(re.findall(r, str(soups)))\"\"\"\n",
    "    print(profundidad)\n",
    "    a = f\"google {profundidad}\"\n",
    "    b = f\"facebook{profundidad}\"\n",
    "    links = [a,b]\n",
    "\n",
    "    return links\n",
    "\n",
    "def get_urls(url, profundidad):\n",
    "    \"\"\"\n",
    "    Funcion que devuelve una lista de urls contenidas en la url principal.\n",
    "    \"\"\"\n",
    "    if profundidad ==0:\n",
    "        return\n",
    "    links = get_urls_from_url(url.value, profundidad)\n",
    "    for e in links:\n",
    "        nodo = Nodo(value=e)\n",
    "        get_urls(nodo, profundidad-1)\n",
    "        url.add_children(nodo)"
   ]
  },
  {
   "cell_type": "code",
   "execution_count": 9,
   "metadata": {
    "tags": []
   },
   "outputs": [
    {
     "output_type": "stream",
     "name": "stdout",
     "text": [
      "3\n2\n1\n1\n2\n1\n1\n"
     ]
    }
   ],
   "source": [
    "url = Nodo('http://google.com')\n",
    "get_urls(url,3)"
   ]
  },
  {
   "cell_type": "code",
   "execution_count": 4,
   "metadata": {},
   "outputs": [
    {
     "output_type": "execute_result",
     "data": {
      "text/plain": [
       "<arbol.Nodo at 0x7fa8ea1fb790>"
      ]
     },
     "metadata": {},
     "execution_count": 4
    }
   ],
   "source": [
    "url"
   ]
  },
  {
   "cell_type": "code",
   "execution_count": 7,
   "metadata": {},
   "outputs": [
    {
     "output_type": "stream",
     "name": "stdout",
     "text": [
      "google 3\nfacebook3\n"
     ]
    }
   ],
   "source": [
    "for e in url.children:\n",
    "    print (e.value)"
   ]
  },
  {
   "cell_type": "code",
   "execution_count": null,
   "metadata": {},
   "outputs": [],
   "source": []
  }
 ]
}